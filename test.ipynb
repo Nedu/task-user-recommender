{
 "cells": [
  {
   "cell_type": "code",
   "execution_count": 11,
   "metadata": {},
   "outputs": [
    {
     "name": "stdout",
     "output_type": "stream",
     "text": [
      "   user_id  eventStrength\n",
      "0        2       4.459432\n",
      "1        3       4.459432\n",
      "2        4       3.459432\n",
      "3        7       2.807355\n"
     ]
    }
   ],
   "source": [
    "import joblib\n",
    "\n",
    "# load the model from disk\n",
    "loaded_model = joblib.load('popular.sav')\n",
    "result = loaded_model.recommend(78)\n",
    "print(result)"
   ]
  },
  {
   "cell_type": "code",
   "execution_count": null,
   "metadata": {},
   "outputs": [],
   "source": []
  }
 ],
 "metadata": {
  "kernelspec": {
   "display_name": "Python 3",
   "language": "python",
   "name": "python3"
  },
  "language_info": {
   "codemirror_mode": {
    "name": "ipython",
    "version": 3
   },
   "file_extension": ".py",
   "mimetype": "text/x-python",
   "name": "python",
   "nbconvert_exporter": "python",
   "pygments_lexer": "ipython3",
   "version": "3.7.4"
  }
 },
 "nbformat": 4,
 "nbformat_minor": 2
}
